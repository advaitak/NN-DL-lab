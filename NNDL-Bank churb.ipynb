{
 "cells": [
  {
   "cell_type": "markdown",
   "id": "cf4bab00",
   "metadata": {},
   "source": [
    "Take this dataset for bank customer churn prediction : https://www.kaggle.com/barelydedicated/bank-customer-churn-modeling\n",
    "\n",
    "1) Build a deep learning model to predict churn rate at bank.\n",
    "\n",
    "2) Once model is built, print classification report and analyze precision, recall and f1-score"
   ]
  },
  {
   "cell_type": "code",
   "execution_count": 1,
   "id": "1712d7d8",
   "metadata": {},
   "outputs": [],
   "source": [
    "import pandas as pd\n",
    "from sklearn.preprocessing import MinMaxScaler\n",
    "from sklearn.model_selection import train_test_split\n",
    "import tensorflow as tf\n",
    "from tensorflow import keras\n",
    "import pandas as pd\n",
    "import numpy as np\n",
    "import matplotlib.pyplot as plt"
   ]
  },
  {
   "cell_type": "code",
   "execution_count": 3,
   "id": "4e327b95",
   "metadata": {},
   "outputs": [
    {
     "data": {
      "text/html": [
       "<div>\n",
       "<style scoped>\n",
       "    .dataframe tbody tr th:only-of-type {\n",
       "        vertical-align: middle;\n",
       "    }\n",
       "\n",
       "    .dataframe tbody tr th {\n",
       "        vertical-align: top;\n",
       "    }\n",
       "\n",
       "    .dataframe thead th {\n",
       "        text-align: right;\n",
       "    }\n",
       "</style>\n",
       "<table border=\"1\" class=\"dataframe\">\n",
       "  <thead>\n",
       "    <tr style=\"text-align: right;\">\n",
       "      <th></th>\n",
       "      <th>RowNumber</th>\n",
       "      <th>CustomerId</th>\n",
       "      <th>Surname</th>\n",
       "      <th>CreditScore</th>\n",
       "      <th>Geography</th>\n",
       "      <th>Gender</th>\n",
       "      <th>Age</th>\n",
       "      <th>Tenure</th>\n",
       "      <th>Balance</th>\n",
       "      <th>NumOfProducts</th>\n",
       "      <th>HasCrCard</th>\n",
       "      <th>IsActiveMember</th>\n",
       "      <th>EstimatedSalary</th>\n",
       "      <th>Exited</th>\n",
       "    </tr>\n",
       "  </thead>\n",
       "  <tbody>\n",
       "    <tr>\n",
       "      <th>0</th>\n",
       "      <td>1</td>\n",
       "      <td>15634602</td>\n",
       "      <td>Hargrave</td>\n",
       "      <td>619</td>\n",
       "      <td>France</td>\n",
       "      <td>Female</td>\n",
       "      <td>42</td>\n",
       "      <td>2</td>\n",
       "      <td>0.00</td>\n",
       "      <td>1</td>\n",
       "      <td>1</td>\n",
       "      <td>1</td>\n",
       "      <td>101348.88</td>\n",
       "      <td>1</td>\n",
       "    </tr>\n",
       "    <tr>\n",
       "      <th>1</th>\n",
       "      <td>2</td>\n",
       "      <td>15647311</td>\n",
       "      <td>Hill</td>\n",
       "      <td>608</td>\n",
       "      <td>Spain</td>\n",
       "      <td>Female</td>\n",
       "      <td>41</td>\n",
       "      <td>1</td>\n",
       "      <td>83807.86</td>\n",
       "      <td>1</td>\n",
       "      <td>0</td>\n",
       "      <td>1</td>\n",
       "      <td>112542.58</td>\n",
       "      <td>0</td>\n",
       "    </tr>\n",
       "    <tr>\n",
       "      <th>2</th>\n",
       "      <td>3</td>\n",
       "      <td>15619304</td>\n",
       "      <td>Onio</td>\n",
       "      <td>502</td>\n",
       "      <td>France</td>\n",
       "      <td>Female</td>\n",
       "      <td>42</td>\n",
       "      <td>8</td>\n",
       "      <td>159660.80</td>\n",
       "      <td>3</td>\n",
       "      <td>1</td>\n",
       "      <td>0</td>\n",
       "      <td>113931.57</td>\n",
       "      <td>1</td>\n",
       "    </tr>\n",
       "    <tr>\n",
       "      <th>3</th>\n",
       "      <td>4</td>\n",
       "      <td>15701354</td>\n",
       "      <td>Boni</td>\n",
       "      <td>699</td>\n",
       "      <td>France</td>\n",
       "      <td>Female</td>\n",
       "      <td>39</td>\n",
       "      <td>1</td>\n",
       "      <td>0.00</td>\n",
       "      <td>2</td>\n",
       "      <td>0</td>\n",
       "      <td>0</td>\n",
       "      <td>93826.63</td>\n",
       "      <td>0</td>\n",
       "    </tr>\n",
       "    <tr>\n",
       "      <th>4</th>\n",
       "      <td>5</td>\n",
       "      <td>15737888</td>\n",
       "      <td>Mitchell</td>\n",
       "      <td>850</td>\n",
       "      <td>Spain</td>\n",
       "      <td>Female</td>\n",
       "      <td>43</td>\n",
       "      <td>2</td>\n",
       "      <td>125510.82</td>\n",
       "      <td>1</td>\n",
       "      <td>1</td>\n",
       "      <td>1</td>\n",
       "      <td>79084.10</td>\n",
       "      <td>0</td>\n",
       "    </tr>\n",
       "  </tbody>\n",
       "</table>\n",
       "</div>"
      ],
      "text/plain": [
       "   RowNumber  CustomerId   Surname  CreditScore Geography  Gender  Age  \\\n",
       "0          1    15634602  Hargrave          619    France  Female   42   \n",
       "1          2    15647311      Hill          608     Spain  Female   41   \n",
       "2          3    15619304      Onio          502    France  Female   42   \n",
       "3          4    15701354      Boni          699    France  Female   39   \n",
       "4          5    15737888  Mitchell          850     Spain  Female   43   \n",
       "\n",
       "   Tenure    Balance  NumOfProducts  HasCrCard  IsActiveMember  \\\n",
       "0       2       0.00              1          1               1   \n",
       "1       1   83807.86              1          0               1   \n",
       "2       8  159660.80              3          1               0   \n",
       "3       1       0.00              2          0               0   \n",
       "4       2  125510.82              1          1               1   \n",
       "\n",
       "   EstimatedSalary  Exited  \n",
       "0        101348.88       1  \n",
       "1        112542.58       0  \n",
       "2        113931.57       1  \n",
       "3         93826.63       0  \n",
       "4         79084.10       0  "
      ]
     },
     "execution_count": 3,
     "metadata": {},
     "output_type": "execute_result"
    }
   ],
   "source": [
    "df=pd.read_csv('Churn_Modelling.csv')\n",
    "df.head()"
   ]
  },
  {
   "cell_type": "code",
   "execution_count": 4,
   "id": "de87c949",
   "metadata": {},
   "outputs": [
    {
     "data": {
      "text/plain": [
       "(10000, 14)"
      ]
     },
     "execution_count": 4,
     "metadata": {},
     "output_type": "execute_result"
    }
   ],
   "source": [
    "df.shape"
   ]
  },
  {
   "cell_type": "code",
   "execution_count": 5,
   "id": "665f44e1",
   "metadata": {},
   "outputs": [
    {
     "data": {
      "text/plain": [
       "RowNumber            int64\n",
       "CustomerId           int64\n",
       "Surname             object\n",
       "CreditScore          int64\n",
       "Geography           object\n",
       "Gender              object\n",
       "Age                  int64\n",
       "Tenure               int64\n",
       "Balance            float64\n",
       "NumOfProducts        int64\n",
       "HasCrCard            int64\n",
       "IsActiveMember       int64\n",
       "EstimatedSalary    float64\n",
       "Exited               int64\n",
       "dtype: object"
      ]
     },
     "execution_count": 5,
     "metadata": {},
     "output_type": "execute_result"
    }
   ],
   "source": [
    "df.dtypes"
   ]
  },
  {
   "cell_type": "markdown",
   "id": "029c7755",
   "metadata": {},
   "source": [
    "Drop rows that are not required"
   ]
  },
  {
   "cell_type": "code",
   "execution_count": 6,
   "id": "058e0e82",
   "metadata": {},
   "outputs": [],
   "source": [
    "df = df.drop(['RowNumber', 'CustomerId', 'Surname'], axis=1)"
   ]
  },
  {
   "cell_type": "markdown",
   "id": "6ccd272e",
   "metadata": {},
   "source": [
    "Visualization"
   ]
  },
  {
   "cell_type": "code",
   "execution_count": 7,
   "id": "bb307e87",
   "metadata": {},
   "outputs": [
    {
     "data": {
      "text/plain": [
       "<matplotlib.legend.Legend at 0x23548922160>"
      ]
     },
     "execution_count": 7,
     "metadata": {},
     "output_type": "execute_result"
    },
    {
     "data": {
      "image/png": "[encoded data removed]",
      "text/plain": [
       "<Figure size 432x288 with 1 Axes>"
      ]
     },
     "metadata": {
      "needs_background": "light"
     },
     "output_type": "display_data"
    }
   ],
   "source": [
    "existed_yes = df[df['Exited']== 1].Tenure \n",
    "existed_no = df[df['Exited']== 0].Tenure \n",
    "plt.xlabel('Tenure')\n",
    "plt.ylabel('no of customer')\n",
    "plt.title('Churn prediction')\n",
    "plt.hist([existed_no,existed_yes], color = ['red', 'blue'], label =(['Existed = no','Existed = yes']))\n",
    "plt.legend()"
   ]
  },
  {
   "cell_type": "code",
   "execution_count": 8,
   "id": "a4e7a55f",
   "metadata": {},
   "outputs": [
    {
     "data": {
      "text/plain": [
       "<matplotlib.legend.Legend at 0x2353c4caa00>"
      ]
     },
     "execution_count": 8,
     "metadata": {},
     "output_type": "execute_result"
    },
    {
     "data": {
      "image/png": "[encoded data removed]",
      "text/plain": [
       "<Figure size 432x288 with 1 Axes>"
      ]
     },
     "metadata": {
      "needs_background": "light"
     },
     "output_type": "display_data"
    }
   ],
   "source": [
    "salary_no_existed = df[df.Exited== 0].EstimatedSalary\n",
    "salary_yes_existed = df[df.Exited== 1].EstimatedSalary\n",
    "plt.xlabel('Estimad_salary')\n",
    "plt.ylabel('no of customer')\n",
    "plt.title('Churn prediction')\n",
    "plt.hist([salary_no_existed,salary_yes_existed], color = ['green', 'blue'], label =(['Existed = no','Existed = yes']))\n",
    "plt.legend()"
   ]
  },
  {
   "cell_type": "markdown",
   "id": "4dfb9158",
   "metadata": {},
   "source": [
    "Converting categorical to numerical"
   ]
  },
  {
   "cell_type": "code",
   "execution_count": 9,
   "id": "643581c6",
   "metadata": {},
   "outputs": [],
   "source": [
    "df.Gender = df.Gender.map({'Female':1, 'Male':0}) \n",
    "df = pd.get_dummies(data=df, columns=['Geography'])"
   ]
  },
  {
   "cell_type": "code",
   "execution_count": 10,
   "id": "3e4c20ff",
   "metadata": {},
   "outputs": [
    {
     "data": {
      "text/html": [
       "<div>\n",
       "<style scoped>\n",
       "    .dataframe tbody tr th:only-of-type {\n",
       "        vertical-align: middle;\n",
       "    }\n",
       "\n",
       "    .dataframe tbody tr th {\n",
       "        vertical-align: top;\n",
       "    }\n",
       "\n",
       "    .dataframe thead th {\n",
       "        text-align: right;\n",
       "    }\n",
       "</style>\n",
       "<table border=\"1\" class=\"dataframe\">\n",
       "  <thead>\n",
       "    <tr style=\"text-align: right;\">\n",
       "      <th></th>\n",
       "      <th>CreditScore</th>\n",
       "      <th>Gender</th>\n",
       "      <th>Age</th>\n",
       "      <th>Tenure</th>\n",
       "      <th>Balance</th>\n",
       "      <th>NumOfProducts</th>\n",
       "      <th>HasCrCard</th>\n",
       "      <th>IsActiveMember</th>\n",
       "      <th>EstimatedSalary</th>\n",
       "      <th>Exited</th>\n",
       "      <th>Geography_France</th>\n",
       "      <th>Geography_Germany</th>\n",
       "      <th>Geography_Spain</th>\n",
       "    </tr>\n",
       "  </thead>\n",
       "  <tbody>\n",
       "    <tr>\n",
       "      <th>0</th>\n",
       "      <td>0.538</td>\n",
       "      <td>1</td>\n",
       "      <td>0.324324</td>\n",
       "      <td>0.2</td>\n",
       "      <td>0.000000</td>\n",
       "      <td>0.000000</td>\n",
       "      <td>1</td>\n",
       "      <td>1</td>\n",
       "      <td>0.506735</td>\n",
       "      <td>1</td>\n",
       "      <td>1</td>\n",
       "      <td>0</td>\n",
       "      <td>0</td>\n",
       "    </tr>\n",
       "    <tr>\n",
       "      <th>1</th>\n",
       "      <td>0.516</td>\n",
       "      <td>1</td>\n",
       "      <td>0.310811</td>\n",
       "      <td>0.1</td>\n",
       "      <td>0.334031</td>\n",
       "      <td>0.000000</td>\n",
       "      <td>0</td>\n",
       "      <td>1</td>\n",
       "      <td>0.562709</td>\n",
       "      <td>0</td>\n",
       "      <td>0</td>\n",
       "      <td>0</td>\n",
       "      <td>1</td>\n",
       "    </tr>\n",
       "    <tr>\n",
       "      <th>2</th>\n",
       "      <td>0.304</td>\n",
       "      <td>1</td>\n",
       "      <td>0.324324</td>\n",
       "      <td>0.8</td>\n",
       "      <td>0.636357</td>\n",
       "      <td>0.666667</td>\n",
       "      <td>1</td>\n",
       "      <td>0</td>\n",
       "      <td>0.569654</td>\n",
       "      <td>1</td>\n",
       "      <td>1</td>\n",
       "      <td>0</td>\n",
       "      <td>0</td>\n",
       "    </tr>\n",
       "    <tr>\n",
       "      <th>3</th>\n",
       "      <td>0.698</td>\n",
       "      <td>1</td>\n",
       "      <td>0.283784</td>\n",
       "      <td>0.1</td>\n",
       "      <td>0.000000</td>\n",
       "      <td>0.333333</td>\n",
       "      <td>0</td>\n",
       "      <td>0</td>\n",
       "      <td>0.469120</td>\n",
       "      <td>0</td>\n",
       "      <td>1</td>\n",
       "      <td>0</td>\n",
       "      <td>0</td>\n",
       "    </tr>\n",
       "    <tr>\n",
       "      <th>4</th>\n",
       "      <td>1.000</td>\n",
       "      <td>1</td>\n",
       "      <td>0.337838</td>\n",
       "      <td>0.2</td>\n",
       "      <td>0.500246</td>\n",
       "      <td>0.000000</td>\n",
       "      <td>1</td>\n",
       "      <td>1</td>\n",
       "      <td>0.395400</td>\n",
       "      <td>0</td>\n",
       "      <td>0</td>\n",
       "      <td>0</td>\n",
       "      <td>1</td>\n",
       "    </tr>\n",
       "  </tbody>\n",
       "</table>\n",
       "</div>"
      ],
      "text/plain": [
       "   CreditScore  Gender       Age  Tenure   Balance  NumOfProducts  HasCrCard  \\\n",
       "0        0.538       1  0.324324     0.2  0.000000       0.000000          1   \n",
       "1        0.516       1  0.310811     0.1  0.334031       0.000000          0   \n",
       "2        0.304       1  0.324324     0.8  0.636357       0.666667          1   \n",
       "3        0.698       1  0.283784     0.1  0.000000       0.333333          0   \n",
       "4        1.000       1  0.337838     0.2  0.500246       0.000000          1   \n",
       "\n",
       "   IsActiveMember  EstimatedSalary  Exited  Geography_France  \\\n",
       "0               1         0.506735       1                 1   \n",
       "1               1         0.562709       0                 0   \n",
       "2               0         0.569654       1                 1   \n",
       "3               0         0.469120       0                 1   \n",
       "4               1         0.395400       0                 0   \n",
       "\n",
       "   Geography_Germany  Geography_Spain  \n",
       "0                  0                0  \n",
       "1                  0                1  \n",
       "2                  0                0  \n",
       "3                  0                0  \n",
       "4                  0                1  "
      ]
     },
     "execution_count": 10,
     "metadata": {},
     "output_type": "execute_result"
    }
   ],
   "source": [
    "scaler = MinMaxScaler()\n",
    "df[['CreditScore', 'Age', 'Tenure', 'Balance', 'NumOfProducts', 'EstimatedSalary']] = scaler.fit_transform(df[['CreditScore', 'Age', 'Tenure', 'Balance', 'NumOfProducts', 'EstimatedSalary']])\n",
    "df.head()"
   ]
  },
  {
   "cell_type": "code",
   "execution_count": 11,
   "id": "f443073a",
   "metadata": {},
   "outputs": [
    {
     "data": {
      "text/plain": [
       "0    7963\n",
       "1    2037\n",
       "Name: Exited, dtype: int64"
      ]
     },
     "execution_count": 11,
     "metadata": {},
     "output_type": "execute_result"
    }
   ],
   "source": [
    "df.Exited.value_counts()"
   ]
  },
  {
   "cell_type": "markdown",
   "id": "50dc014f",
   "metadata": {},
   "source": [
    "Model Training"
   ]
  },
  {
   "cell_type": "code",
   "execution_count": 12,
   "id": "7210f4be",
   "metadata": {},
   "outputs": [],
   "source": [
    "x = df.drop('Exited', axis = 1) \n",
    "y = df.Exited\n",
    "x_train, x_test, y_train, y_test = train_test_split(x, y)"
   ]
  },
  {
   "cell_type": "code",
   "execution_count": 14,
   "id": "fb09c4ce",
   "metadata": {},
   "outputs": [
    {
     "data": {
      "text/plain": [
       "(7500, 12)"
      ]
     },
     "execution_count": 14,
     "metadata": {},
     "output_type": "execute_result"
    }
   ],
   "source": [
    "x_train.shape"
   ]
  },
  {
   "cell_type": "code",
   "execution_count": 15,
   "id": "54edd891",
   "metadata": {},
   "outputs": [
    {
     "data": {
      "text/plain": [
       "(2500, 12)"
      ]
     },
     "execution_count": 15,
     "metadata": {},
     "output_type": "execute_result"
    }
   ],
   "source": [
    "x_test.shape"
   ]
  },
  {
   "cell_type": "code",
   "execution_count": 16,
   "id": "41d94c9d",
   "metadata": {},
   "outputs": [
    {
     "name": "stdout",
     "output_type": "stream",
     "text": [
      "Epoch 1/100\n",
      "235/235 [==============================] - 1s 888us/step - loss: 0.5179 - accuracy: 0.7979\n",
      "Epoch 2/100\n",
      "235/235 [==============================] - 0s 841us/step - loss: 0.4694 - accuracy: 0.7980\n",
      "Epoch 3/100\n",
      "235/235 [==============================] - 0s 845us/step - loss: 0.4565 - accuracy: 0.7980\n",
      "Epoch 4/100\n",
      "235/235 [==============================] - 0s 998us/step - loss: 0.4459 - accuracy: 0.8001\n",
      "Epoch 5/100\n",
      "235/235 [==============================] - 0s 1ms/step - loss: 0.4355 - accuracy: 0.8121\n",
      "Epoch 6/100\n",
      "235/235 [==============================] - 0s 876us/step - loss: 0.4280 - accuracy: 0.8149\n",
      "Epoch 7/100\n",
      "235/235 [==============================] - 0s 1ms/step - loss: 0.4225 - accuracy: 0.8177\n",
      "Epoch 8/100\n",
      "235/235 [==============================] - 0s 1ms/step - loss: 0.4181 - accuracy: 0.8208\n",
      "Epoch 9/100\n",
      "235/235 [==============================] - 0s 1ms/step - loss: 0.4149 - accuracy: 0.8205\n",
      "Epoch 10/100\n",
      "235/235 [==============================] - 0s 1ms/step - loss: 0.4116 - accuracy: 0.8228\n",
      "Epoch 11/100\n",
      "235/235 [==============================] - 0s 1ms/step - loss: 0.4101 - accuracy: 0.8252\n",
      "Epoch 12/100\n",
      "235/235 [==============================] - 0s 940us/step - loss: 0.4083 - accuracy: 0.8283\n",
      "Epoch 13/100\n",
      "235/235 [==============================] - 0s 1ms/step - loss: 0.4066 - accuracy: 0.8280\n",
      "Epoch 14/100\n",
      "235/235 [==============================] - 0s 1ms/step - loss: 0.4060 - accuracy: 0.8292\n",
      "Epoch 15/100\n",
      "235/235 [==============================] - 0s 1ms/step - loss: 0.4044 - accuracy: 0.8297\n",
      "Epoch 16/100\n",
      "235/235 [==============================] - 0s 1ms/step - loss: 0.4036 - accuracy: 0.8295\n",
      "Epoch 17/100\n",
      "235/235 [==============================] - 0s 1ms/step - loss: 0.4019 - accuracy: 0.8301\n",
      "Epoch 18/100\n",
      "235/235 [==============================] - 0s 1ms/step - loss: 0.4013 - accuracy: 0.8300\n",
      "Epoch 19/100\n",
      "235/235 [==============================] - 0s 1ms/step - loss: 0.4007 - accuracy: 0.8303\n",
      "Epoch 20/100\n",
      "235/235 [==============================] - 0s 1ms/step - loss: 0.3989 - accuracy: 0.8308\n",
      "Epoch 21/100\n",
      "235/235 [==============================] - 0s 1ms/step - loss: 0.3974 - accuracy: 0.8320\n",
      "Epoch 22/100\n",
      "235/235 [==============================] - 0s 1ms/step - loss: 0.3961 - accuracy: 0.8339\n",
      "Epoch 23/100\n",
      "235/235 [==============================] - 0s 1ms/step - loss: 0.3952 - accuracy: 0.8317\n",
      "Epoch 24/100\n",
      "235/235 [==============================] - 0s 1ms/step - loss: 0.3940 - accuracy: 0.8321\n",
      "Epoch 25/100\n",
      "235/235 [==============================] - 0s 898us/step - loss: 0.3929 - accuracy: 0.8348\n",
      "Epoch 26/100\n",
      "235/235 [==============================] - 0s 797us/step - loss: 0.3913 - accuracy: 0.8347\n",
      "Epoch 27/100\n",
      "235/235 [==============================] - 0s 873us/step - loss: 0.3899 - accuracy: 0.8351\n",
      "Epoch 28/100\n",
      "235/235 [==============================] - 0s 865us/step - loss: 0.3886 - accuracy: 0.8355\n",
      "Epoch 29/100\n",
      "235/235 [==============================] - 0s 784us/step - loss: 0.3867 - accuracy: 0.8351\n",
      "Epoch 30/100\n",
      "235/235 [==============================] - 0s 810us/step - loss: 0.3857 - accuracy: 0.8368\n",
      "Epoch 31/100\n",
      "235/235 [==============================] - 0s 844us/step - loss: 0.3840 - accuracy: 0.8392\n",
      "Epoch 32/100\n",
      "235/235 [==============================] - 0s 803us/step - loss: 0.3825 - accuracy: 0.8399\n",
      "Epoch 33/100\n",
      "235/235 [==============================] - 0s 787us/step - loss: 0.3803 - accuracy: 0.8425\n",
      "Epoch 34/100\n",
      "235/235 [==============================] - 0s 832us/step - loss: 0.3772 - accuracy: 0.8437\n",
      "Epoch 35/100\n",
      "235/235 [==============================] - 0s 839us/step - loss: 0.3736 - accuracy: 0.8448\n",
      "Epoch 36/100\n",
      "235/235 [==============================] - 0s 831us/step - loss: 0.3690 - accuracy: 0.8463\n",
      "Epoch 37/100\n",
      "235/235 [==============================] - 0s 807us/step - loss: 0.3652 - accuracy: 0.8488\n",
      "Epoch 38/100\n",
      "235/235 [==============================] - 0s 814us/step - loss: 0.3625 - accuracy: 0.8499\n",
      "Epoch 39/100\n",
      "235/235 [==============================] - 0s 784us/step - loss: 0.3600 - accuracy: 0.8503\n",
      "Epoch 40/100\n",
      "235/235 [==============================] - 0s 846us/step - loss: 0.3575 - accuracy: 0.8527\n",
      "Epoch 41/100\n",
      "235/235 [==============================] - 0s 821us/step - loss: 0.3544 - accuracy: 0.8535\n",
      "Epoch 42/100\n",
      "235/235 [==============================] - 0s 860us/step - loss: 0.3533 - accuracy: 0.8543\n",
      "Epoch 43/100\n",
      "235/235 [==============================] - 0s 820us/step - loss: 0.3530 - accuracy: 0.8535\n",
      "Epoch 44/100\n",
      "235/235 [==============================] - 0s 865us/step - loss: 0.3494 - accuracy: 0.8565\n",
      "Epoch 45/100\n",
      "235/235 [==============================] - 0s 959us/step - loss: 0.3472 - accuracy: 0.8583\n",
      "Epoch 46/100\n",
      "235/235 [==============================] - 0s 936us/step - loss: 0.3463 - accuracy: 0.8565\n",
      "Epoch 47/100\n",
      "235/235 [==============================] - 0s 1ms/step - loss: 0.3455 - accuracy: 0.8593\n",
      "Epoch 48/100\n",
      "235/235 [==============================] - 0s 822us/step - loss: 0.3450 - accuracy: 0.8580\n",
      "Epoch 49/100\n",
      "235/235 [==============================] - 0s 841us/step - loss: 0.3437 - accuracy: 0.8581\n",
      "Epoch 50/100\n",
      "235/235 [==============================] - 0s 942us/step - loss: 0.3419 - accuracy: 0.8611\n",
      "Epoch 51/100\n",
      "235/235 [==============================] - 0s 963us/step - loss: 0.3429 - accuracy: 0.8604\n",
      "Epoch 52/100\n",
      "235/235 [==============================] - 0s 834us/step - loss: 0.3411 - accuracy: 0.8607\n",
      "Epoch 53/100\n",
      "235/235 [==============================] - 0s 823us/step - loss: 0.3410 - accuracy: 0.8589\n",
      "Epoch 54/100\n",
      "235/235 [==============================] - 0s 834us/step - loss: 0.3395 - accuracy: 0.8629\n",
      "Epoch 55/100\n",
      "235/235 [==============================] - 0s 856us/step - loss: 0.3396 - accuracy: 0.8608\n",
      "Epoch 56/100\n",
      "235/235 [==============================] - 0s 809us/step - loss: 0.3393 - accuracy: 0.8617\n",
      "Epoch 57/100\n",
      "235/235 [==============================] - 0s 821us/step - loss: 0.3387 - accuracy: 0.8632\n",
      "Epoch 58/100\n",
      "235/235 [==============================] - 0s 803us/step - loss: 0.3371 - accuracy: 0.8635\n",
      "Epoch 59/100\n",
      "235/235 [==============================] - 0s 785us/step - loss: 0.3380 - accuracy: 0.8604\n",
      "Epoch 60/100\n",
      "235/235 [==============================] - 0s 851us/step - loss: 0.3375 - accuracy: 0.8633\n",
      "Epoch 61/100\n",
      "235/235 [==============================] - 0s 881us/step - loss: 0.3366 - accuracy: 0.8627\n",
      "Epoch 62/100\n",
      "235/235 [==============================] - 0s 850us/step - loss: 0.3381 - accuracy: 0.8628\n",
      "Epoch 63/100\n",
      "235/235 [==============================] - 0s 828us/step - loss: 0.3362 - accuracy: 0.8647\n",
      "Epoch 64/100\n",
      "235/235 [==============================] - 0s 857us/step - loss: 0.3360 - accuracy: 0.8655\n",
      "Epoch 65/100\n",
      "235/235 [==============================] - 0s 835us/step - loss: 0.3356 - accuracy: 0.8619\n",
      "Epoch 66/100\n",
      "235/235 [==============================] - 0s 800us/step - loss: 0.3358 - accuracy: 0.8648\n",
      "Epoch 67/100\n",
      "235/235 [==============================] - 0s 951us/step - loss: 0.3343 - accuracy: 0.8633\n",
      "Epoch 68/100\n",
      "235/235 [==============================] - 0s 774us/step - loss: 0.3348 - accuracy: 0.8640\n",
      "Epoch 69/100\n",
      "235/235 [==============================] - 0s 787us/step - loss: 0.3342 - accuracy: 0.8648\n",
      "Epoch 70/100\n",
      "235/235 [==============================] - 0s 792us/step - loss: 0.3347 - accuracy: 0.8647\n",
      "Epoch 71/100\n",
      "235/235 [==============================] - 0s 818us/step - loss: 0.3346 - accuracy: 0.8619\n",
      "Epoch 72/100\n",
      "235/235 [==============================] - 0s 1ms/step - loss: 0.3356 - accuracy: 0.8605\n",
      "Epoch 73/100\n",
      "235/235 [==============================] - 0s 837us/step - loss: 0.3340 - accuracy: 0.8635\n",
      "Epoch 74/100\n",
      "235/235 [==============================] - 0s 834us/step - loss: 0.3345 - accuracy: 0.8631\n",
      "Epoch 75/100\n",
      "235/235 [==============================] - 0s 816us/step - loss: 0.3346 - accuracy: 0.8624\n",
      "Epoch 76/100\n",
      "235/235 [==============================] - 0s 826us/step - loss: 0.3346 - accuracy: 0.8639\n",
      "Epoch 77/100\n",
      "235/235 [==============================] - 0s 918us/step - loss: 0.3337 - accuracy: 0.8611\n",
      "Epoch 78/100\n",
      "235/235 [==============================] - 0s 898us/step - loss: 0.3337 - accuracy: 0.8619\n",
      "Epoch 79/100\n",
      "235/235 [==============================] - 0s 808us/step - loss: 0.3335 - accuracy: 0.8631\n",
      "Epoch 80/100\n",
      "235/235 [==============================] - 0s 807us/step - loss: 0.3341 - accuracy: 0.8624\n",
      "Epoch 81/100\n",
      "235/235 [==============================] - 0s 989us/step - loss: 0.3333 - accuracy: 0.8644\n",
      "Epoch 82/100\n",
      "235/235 [==============================] - 0s 850us/step - loss: 0.3330 - accuracy: 0.8623\n",
      "Epoch 83/100\n",
      "235/235 [==============================] - 0s 955us/step - loss: 0.3331 - accuracy: 0.8623\n",
      "Epoch 84/100\n",
      "235/235 [==============================] - 0s 814us/step - loss: 0.3335 - accuracy: 0.8627\n",
      "Epoch 85/100\n",
      "235/235 [==============================] - 0s 1ms/step - loss: 0.3332 - accuracy: 0.8660\n",
      "Epoch 86/100\n",
      "235/235 [==============================] - 0s 923us/step - loss: 0.3335 - accuracy: 0.8647\n",
      "Epoch 87/100\n",
      "235/235 [==============================] - 0s 833us/step - loss: 0.3335 - accuracy: 0.8631\n",
      "Epoch 88/100\n",
      "235/235 [==============================] - 0s 842us/step - loss: 0.3323 - accuracy: 0.8643\n",
      "Epoch 89/100\n",
      "235/235 [==============================] - 0s 857us/step - loss: 0.3324 - accuracy: 0.8628\n",
      "Epoch 90/100\n",
      "235/235 [==============================] - 0s 814us/step - loss: 0.3324 - accuracy: 0.8628\n",
      "Epoch 91/100\n",
      "235/235 [==============================] - 0s 787us/step - loss: 0.3327 - accuracy: 0.8636\n",
      "Epoch 92/100\n",
      "235/235 [==============================] - 0s 796us/step - loss: 0.3327 - accuracy: 0.8617\n",
      "Epoch 93/100\n",
      "235/235 [==============================] - 0s 840us/step - loss: 0.3331 - accuracy: 0.8616\n",
      "Epoch 94/100\n",
      "235/235 [==============================] - 0s 901us/step - loss: 0.3327 - accuracy: 0.8648\n",
      "Epoch 95/100\n",
      "235/235 [==============================] - 0s 823us/step - loss: 0.3333 - accuracy: 0.8621\n",
      "Epoch 96/100\n",
      "235/235 [==============================] - 0s 834us/step - loss: 0.3326 - accuracy: 0.8629\n",
      "Epoch 97/100\n",
      "235/235 [==============================] - 0s 834us/step - loss: 0.3322 - accuracy: 0.8616\n",
      "Epoch 98/100\n",
      "235/235 [==============================] - 0s 871us/step - loss: 0.3315 - accuracy: 0.8625\n",
      "Epoch 99/100\n",
      "235/235 [==============================] - 0s 805us/step - loss: 0.3324 - accuracy: 0.8631\n",
      "Epoch 100/100\n",
      "235/235 [==============================] - 0s 959us/step - loss: 0.3332 - accuracy: 0.8609\n"
     ]
    },
    {
     "data": {
      "text/plain": [
       "<keras.callbacks.History at 0x235494d67f0>"
      ]
     },
     "execution_count": 16,
     "metadata": {},
     "output_type": "execute_result"
    }
   ],
   "source": [
    "import tensorflow as tf\n",
    "from tensorflow import keras\n",
    "\n",
    "model = keras.Sequential([\n",
    "        keras.layers.Dense(12, input_shape = (12,), activation = 'relu'),\n",
    "        keras.layers.Dense(12, activation = 'relu'),\n",
    "        keras.layers.Dense(1, activation = 'sigmoid')]) \n",
    "\n",
    "\n",
    "model.compile(optimizer = 'adam', loss = 'binary_crossentropy', metrics = 'accuracy')\n",
    "model.fit(x_train, y_train, epochs = 100)"
   ]
  },
  {
   "cell_type": "code",
   "execution_count": 17,
   "id": "327e8beb",
   "metadata": {},
   "outputs": [
    {
     "name": "stdout",
     "output_type": "stream",
     "text": [
      "79/79 [==============================] - 0s 895us/step - loss: 0.3396 - accuracy: 0.8588\n"
     ]
    },
    {
     "data": {
      "text/plain": [
       "[0.33958742022514343, 0.8587999939918518]"
      ]
     },
     "execution_count": 17,
     "metadata": {},
     "output_type": "execute_result"
    }
   ],
   "source": [
    "model.evaluate(x_test, y_test)"
   ]
  },
  {
   "cell_type": "code",
   "execution_count": 18,
   "id": "3a7021ae",
   "metadata": {},
   "outputs": [
    {
     "data": {
      "text/plain": [
       "array([[0.11639154],\n",
       "       [0.0309715 ],\n",
       "       [0.15441349],\n",
       "       [0.11608317],\n",
       "       [0.08144012]], dtype=float32)"
      ]
     },
     "execution_count": 18,
     "metadata": {},
     "output_type": "execute_result"
    }
   ],
   "source": [
    "yp = model.predict(x_test)\n",
    "yp[:5]"
   ]
  },
  {
   "cell_type": "code",
   "execution_count": 19,
   "id": "bbbf8699",
   "metadata": {},
   "outputs": [],
   "source": [
    "y_pred = []\n",
    "for element in yp:\n",
    "    if element > 0.5:\n",
    "        y_pred.append(1)\n",
    "    else:\n",
    "        y_pred.append(0)"
   ]
  },
  {
   "cell_type": "code",
   "execution_count": 20,
   "id": "97d43aed",
   "metadata": {},
   "outputs": [
    {
     "name": "stdout",
     "output_type": "stream",
     "text": [
      "              precision    recall  f1-score   support\n",
      "\n",
      "           0       0.87      0.96      0.91      1978\n",
      "           1       0.76      0.48      0.58       522\n",
      "\n",
      "    accuracy                           0.86      2500\n",
      "   macro avg       0.82      0.72      0.75      2500\n",
      "weighted avg       0.85      0.86      0.85      2500\n",
      "\n"
     ]
    }
   ],
   "source": [
    "from sklearn.metrics import confusion_matrix , classification_report\n",
    "\n",
    "print(classification_report(y_test,y_pred))"
   ]
  },
  {
   "cell_type": "code",
   "execution_count": 21,
   "id": "a69e7c7d",
   "metadata": {},
   "outputs": [
    {
     "data": {
      "text/plain": [
       "Text(69.0, 0.5, 'Truth')"
      ]
     },
     "execution_count": 21,
     "metadata": {},
     "output_type": "execute_result"
    },
    {
     "data": {
      "image/png": "[encoded data removed]",
      "text/plain": [
       "<Figure size 720x504 with 2 Axes>"
      ]
     },
     "metadata": {
      "needs_background": "light"
     },
     "output_type": "display_data"
    }
   ],
   "source": [
    "import seaborn as sn\n",
    "from matplotlib  import pyplot as plt\n",
    "\n",
    "cm = tf.math.confusion_matrix(labels=y_test,predictions=y_pred)\n",
    "\n",
    "plt.figure(figsize = (10,7))\n",
    "sn.heatmap(cm, annot=True, fmt='d')\n",
    "plt.xlabel('Predicted')\n",
    "plt.ylabel('Truth')"
   ]
  },
  {
   "cell_type": "markdown",
   "id": "0d51c672",
   "metadata": {},
   "source": [
    "Accuracy"
   ]
  },
  {
   "cell_type": "code",
   "execution_count": 22,
   "id": "d9396500",
   "metadata": {},
   "outputs": [
    {
     "data": {
      "text/plain": [
       "0.86"
      ]
     },
     "execution_count": 22,
     "metadata": {},
     "output_type": "execute_result"
    }
   ],
   "source": [
    "round((1922+229)/(1922+229+275+74),2)"
   ]
  },
  {
   "cell_type": "markdown",
   "id": "7f03a036",
   "metadata": {},
   "source": [
    "Precision for 0 class. i.e. Precision for customers who did not"
   ]
  },
  {
   "cell_type": "code",
   "execution_count": 23,
   "id": "90cee20b",
   "metadata": {},
   "outputs": [
    {
     "data": {
      "text/plain": [
       "0.87"
      ]
     },
     "execution_count": 23,
     "metadata": {},
     "output_type": "execute_result"
    }
   ],
   "source": [
    "round(1922/(1922+275),2)"
   ]
  },
  {
   "cell_type": "markdown",
   "id": "c3d94af6",
   "metadata": {},
   "source": [
    "Precision for 1 class. i.e. Precision for customers who actually churned"
   ]
  },
  {
   "cell_type": "code",
   "execution_count": 24,
   "id": "f50ac6da",
   "metadata": {},
   "outputs": [
    {
     "data": {
      "text/plain": [
       "0.76"
      ]
     },
     "execution_count": 24,
     "metadata": {},
     "output_type": "execute_result"
    }
   ],
   "source": [
    "round(229/(229+74),2)"
   ]
  },
  {
   "cell_type": "markdown",
   "id": "21d75556",
   "metadata": {},
   "source": [
    "Recall for 0 class"
   ]
  },
  {
   "cell_type": "code",
   "execution_count": 25,
   "id": "7ad21721",
   "metadata": {},
   "outputs": [
    {
     "data": {
      "text/plain": [
       "0.96"
      ]
     },
     "execution_count": 25,
     "metadata": {},
     "output_type": "execute_result"
    }
   ],
   "source": [
    "round(1922/(1922+74),2)"
   ]
  },
  {
   "cell_type": "code",
   "execution_count": 26,
   "id": "90df8fca",
   "metadata": {},
   "outputs": [
    {
     "data": {
      "text/plain": [
       "0.45"
      ]
     },
     "execution_count": 26,
     "metadata": {},
     "output_type": "execute_result"
    }
   ],
   "source": [
    "round(229/(229+275),2)"
   ]
  },
  {
   "cell_type": "code",
   "execution_count": null,
   "id": "78c65059",
   "metadata": {},
   "outputs": [],
   "source": []
  }
 ],
 "metadata": {
  "kernelspec": {
   "display_name": "Python 3 (ipykernel)",
   "language": "python",
   "name": "python3"
  },
  "language_info": {
   "codemirror_mode": {
    "name": "ipython",
    "version": 3
   },
   "file_extension": ".py",
   "mimetype": "text/x-python",
   "name": "python",
   "nbconvert_exporter": "python",
   "pygments_lexer": "ipython3",
   "version": "3.9.7"
  }
 },
 "nbformat": 4,
 "nbformat_minor": 5
}
